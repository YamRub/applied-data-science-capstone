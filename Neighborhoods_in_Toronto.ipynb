{
 "cells": [
  {
   "cell_type": "markdown",
   "metadata": {},
   "source": [
    "Neighborhoods in Toronto"
   ]
  },
  {
   "cell_type": "code",
   "execution_count": 30,
   "metadata": {},
   "outputs": [],
   "source": [
    "import numpy as np \n",
    "import pandas as pd \n",
    "import json # library to handle JSON files\n",
    "import requests # library to handle requests\n",
    "from pandas.io.json import json_normalize # tranform JSON file into a pandas dataframe\n",
    "import matplotlib.cm as cm\n",
    "import matplotlib.colors as colors # Matplotlib and associated plotting modules\n",
    "from sklearn.cluster import KMeans # import k-means from clus\n",
    "\n"
   ]
  },
  {
   "cell_type": "code",
   "execution_count": 2,
   "metadata": {},
   "outputs": [
    {
     "name": "stdout",
     "output_type": "stream",
     "text": [
      "Collecting beautifulsoup4\n",
      "  Downloading https://files.pythonhosted.org/packages/e8/b5/7bb03a696f2c9b7af792a8f51b82974e51c268f15e925fc834876a4efa0b/beautifulsoup4-4.9.0-py3-none-any.whl (109kB)\n",
      "Collecting soupsieve>1.2\n",
      "  Downloading https://files.pythonhosted.org/packages/05/cf/ea245e52f55823f19992447b008bcbb7f78efc5960d77f6c34b5b45b36dd/soupsieve-2.0-py2.py3-none-any.whl\n",
      "Installing collected packages: soupsieve, beautifulsoup4\n",
      "Successfully installed beautifulsoup4-4.9.0 soupsieve-2.0\n",
      "Note: you may need to restart the kernel to use updated packages.\n"
     ]
    }
   ],
   "source": [
    "pip install beautifulsoup4"
   ]
  },
  {
   "cell_type": "code",
   "execution_count": 31,
   "metadata": {},
   "outputs": [],
   "source": [
    "from bs4 import BeautifulSoup # website scraping libraries and packages in Python from BeautifulSoup"
   ]
  },
  {
   "cell_type": "code",
   "execution_count": 6,
   "metadata": {},
   "outputs": [
    {
     "name": "stdout",
     "output_type": "stream",
     "text": [
      "Collecting geopy\n",
      "  Downloading https://files.pythonhosted.org/packages/53/fc/3d1b47e8e82ea12c25203929efb1b964918a77067a874b2c7631e2ec35ec/geopy-1.21.0-py2.py3-none-any.whl (104kB)\n",
      "Collecting geographiclib<2,>=1.49\n",
      "  Downloading https://files.pythonhosted.org/packages/8b/62/26ec95a98ba64299163199e95ad1b0e34ad3f4e176e221c40245f211e425/geographiclib-1.50-py3-none-any.whl\n",
      "Installing collected packages: geographiclib, geopy\n",
      "Successfully installed geographiclib-1.50 geopy-1.21.0\n",
      "Note: you may need to restart the kernel to use updated packages.\n"
     ]
    }
   ],
   "source": [
    "pip install geopy"
   ]
  },
  {
   "cell_type": "code",
   "execution_count": 32,
   "metadata": {},
   "outputs": [],
   "source": [
    "from geopy.geocoders import Nominatim  # convert an address into latitude and longitude values"
   ]
  },
  {
   "cell_type": "code",
   "execution_count": 33,
   "metadata": {},
   "outputs": [],
   "source": [
    "import folium # map rendering library\n",
    "\n",
    "from pandas.io.json import json_normalize # tranform JSON file into a pandas dataframe"
   ]
  },
  {
   "cell_type": "markdown",
   "metadata": {},
   "source": [
    "Download dataset"
   ]
  },
  {
   "cell_type": "code",
   "execution_count": 34,
   "metadata": {},
   "outputs": [],
   "source": [
    "# GET request\n",
    "data = requests.get('https://en.wikipedia.org/wiki/List_of_postal_codes_of_Canada:_M').text"
   ]
  },
  {
   "cell_type": "code",
   "execution_count": 45,
   "metadata": {},
   "outputs": [],
   "source": [
    "#soup = BeautifulSoup(data, 'html.parser')\n",
    "\n",
    "\n",
    "\n",
    "soup = BeautifulSoup(data, 'html.parser')\n",
    "table = soup.find('table')\n",
    "trs = table.find_all('tr')\n",
    "rows = []\n",
    "for tr in trs:\n",
    "    i = tr.find_all('td')\n",
    "    if i:\n",
    "        rows.append(i)\n",
    "        \n",
    "lst = []\n",
    "for row in rows:\n",
    "    postalcode = row[0].text.rstrip()\n",
    "    borough = row[1].text.rstrip()\n",
    "    neighborhood = row[2].text.rstrip()\n",
    "    if borough != 'Not assigned':\n",
    "        if neighborhood == 'Not assigned':\n",
    "            neighborhood = borough\n",
    "        lst.append([postalcode, borough, neighborhood])\n",
    "\n",
    "# lst\n",
    "\n",
    "\n",
    "#postalCodeList = []\n",
    "#boroughList = []\n",
    "#neighborhoodList = []"
   ]
  },
  {
   "cell_type": "markdown",
   "metadata": {},
   "source": [
    "\n",
    "    convert into a dataframe"
   ]
  },
  {
   "cell_type": "code",
   "execution_count": 49,
   "metadata": {},
   "outputs": [
    {
     "name": "stdout",
     "output_type": "stream",
     "text": [
      "(103, 3)\n"
     ]
    },
    {
     "data": {
      "text/html": [
       "<div>\n",
       "<style scoped>\n",
       "    .dataframe tbody tr th:only-of-type {\n",
       "        vertical-align: middle;\n",
       "    }\n",
       "\n",
       "    .dataframe tbody tr th {\n",
       "        vertical-align: top;\n",
       "    }\n",
       "\n",
       "    .dataframe thead th {\n",
       "        text-align: right;\n",
       "    }\n",
       "</style>\n",
       "<table border=\"1\" class=\"dataframe\">\n",
       "  <thead>\n",
       "    <tr style=\"text-align: right;\">\n",
       "      <th></th>\n",
       "      <th>PostalCode</th>\n",
       "      <th>Borough</th>\n",
       "      <th>Neighborhood</th>\n",
       "    </tr>\n",
       "  </thead>\n",
       "  <tbody>\n",
       "    <tr>\n",
       "      <th>0</th>\n",
       "      <td>M3A</td>\n",
       "      <td>North York</td>\n",
       "      <td>Parkwoods</td>\n",
       "    </tr>\n",
       "    <tr>\n",
       "      <th>1</th>\n",
       "      <td>M4A</td>\n",
       "      <td>North York</td>\n",
       "      <td>Victoria Village</td>\n",
       "    </tr>\n",
       "    <tr>\n",
       "      <th>2</th>\n",
       "      <td>M5A</td>\n",
       "      <td>Downtown Toronto</td>\n",
       "      <td>Regent Park / Harbourfront</td>\n",
       "    </tr>\n",
       "    <tr>\n",
       "      <th>3</th>\n",
       "      <td>M6A</td>\n",
       "      <td>North York</td>\n",
       "      <td>Lawrence Manor / Lawrence Heights</td>\n",
       "    </tr>\n",
       "    <tr>\n",
       "      <th>4</th>\n",
       "      <td>M7A</td>\n",
       "      <td>Downtown Toronto</td>\n",
       "      <td>Queen's Park / Ontario Provincial Government</td>\n",
       "    </tr>\n",
       "  </tbody>\n",
       "</table>\n",
       "</div>"
      ],
      "text/plain": [
       "  PostalCode           Borough                                  Neighborhood\n",
       "0        M3A        North York                                     Parkwoods\n",
       "1        M4A        North York                              Victoria Village\n",
       "2        M5A  Downtown Toronto                    Regent Park / Harbourfront\n",
       "3        M6A        North York             Lawrence Manor / Lawrence Heights\n",
       "4        M7A  Downtown Toronto  Queen's Park / Ontario Provincial Government"
      ]
     },
     "execution_count": 49,
     "metadata": {},
     "output_type": "execute_result"
    }
   ],
   "source": [
    "cols = ['PostalCode', 'Borough', 'Neighborhood']\n",
    "df = pd.DataFrame(lst, columns=cols)\n",
    "print(df.shape)\n",
    "df.head()  #Load dataframme"
   ]
  },
  {
   "cell_type": "markdown",
   "metadata": {},
   "source": [
    "custom groupby / agg to merge Neighborhoods\n",
    "\n",
    "groupby PostalCode, keep the first Borough and join() Neighborhoods\n"
   ]
  },
  {
   "cell_type": "code",
   "execution_count": 48,
   "metadata": {},
   "outputs": [],
   "source": [
    "\n",
    "df = df.groupby('PostalCode').agg(\n",
    "    {\n",
    "        'Borough':'first', \n",
    "        'Neighborhood': ', '.join,}\n",
    "    ).reset_index()\n"
   ]
  },
  {
   "cell_type": "markdown",
   "metadata": {},
   "source": [
    "will check if 'M5A' example is done correctly"
   ]
  },
  {
   "cell_type": "code",
   "execution_count": 50,
   "metadata": {},
   "outputs": [
    {
     "data": {
      "text/html": [
       "<div>\n",
       "<style scoped>\n",
       "    .dataframe tbody tr th:only-of-type {\n",
       "        vertical-align: middle;\n",
       "    }\n",
       "\n",
       "    .dataframe tbody tr th {\n",
       "        vertical-align: top;\n",
       "    }\n",
       "\n",
       "    .dataframe thead th {\n",
       "        text-align: right;\n",
       "    }\n",
       "</style>\n",
       "<table border=\"1\" class=\"dataframe\">\n",
       "  <thead>\n",
       "    <tr style=\"text-align: right;\">\n",
       "      <th></th>\n",
       "      <th>PostalCode</th>\n",
       "      <th>Borough</th>\n",
       "      <th>Neighborhood</th>\n",
       "    </tr>\n",
       "  </thead>\n",
       "  <tbody>\n",
       "    <tr>\n",
       "      <th>2</th>\n",
       "      <td>M5A</td>\n",
       "      <td>Downtown Toronto</td>\n",
       "      <td>Regent Park / Harbourfront</td>\n",
       "    </tr>\n",
       "  </tbody>\n",
       "</table>\n",
       "</div>"
      ],
      "text/plain": [
       "  PostalCode           Borough                Neighborhood\n",
       "2        M5A  Downtown Toronto  Regent Park / Harbourfront"
      ]
     },
     "execution_count": 50,
     "metadata": {},
     "output_type": "execute_result"
    }
   ],
   "source": [
    "\n",
    "df.loc[df['PostalCode'] == 'M5A']"
   ]
  },
  {
   "cell_type": "markdown",
   "metadata": {},
   "source": [
    "    will read geo data from a CSV\n",
    "    need to rename a column so the merge (below) will work"
   ]
  },
  {
   "cell_type": "code",
   "execution_count": 55,
   "metadata": {},
   "outputs": [],
   "source": [
    " #dfgeo=requests.get('http://cocl.us/Geospatial_data').text\n",
    "dfgeo = pd.read_csv(\"Geospatial_Coordinates.csv\")\n",
    "dfgeo.rename(columns={'Postal Code': 'PostalCode'}, inplace=True)\n",
    "#dfgeo.head()"
   ]
  },
  {
   "cell_type": "code",
   "execution_count": 56,
   "metadata": {},
   "outputs": [],
   "source": [
    "df2 = pd.merge(df, dfgeo, on=\"PostalCode\", how='left') \n",
    "#need to merge 2 dataframes based on a PostalCode column"
   ]
  },
  {
   "cell_type": "code",
   "execution_count": 57,
   "metadata": {},
   "outputs": [
    {
     "data": {
      "text/html": [
       "<div>\n",
       "<style scoped>\n",
       "    .dataframe tbody tr th:only-of-type {\n",
       "        vertical-align: middle;\n",
       "    }\n",
       "\n",
       "    .dataframe tbody tr th {\n",
       "        vertical-align: top;\n",
       "    }\n",
       "\n",
       "    .dataframe thead th {\n",
       "        text-align: right;\n",
       "    }\n",
       "</style>\n",
       "<table border=\"1\" class=\"dataframe\">\n",
       "  <thead>\n",
       "    <tr style=\"text-align: right;\">\n",
       "      <th></th>\n",
       "      <th>PostalCode</th>\n",
       "      <th>Borough</th>\n",
       "      <th>Neighborhood</th>\n",
       "      <th>Latitude</th>\n",
       "      <th>Longitude</th>\n",
       "    </tr>\n",
       "  </thead>\n",
       "  <tbody>\n",
       "    <tr>\n",
       "      <th>24</th>\n",
       "      <td>M5G</td>\n",
       "      <td>Downtown Toronto</td>\n",
       "      <td>Central Bay Street</td>\n",
       "      <td>43.657952</td>\n",
       "      <td>-79.387383</td>\n",
       "    </tr>\n",
       "  </tbody>\n",
       "</table>\n",
       "</div>"
      ],
      "text/plain": [
       "   PostalCode           Borough        Neighborhood   Latitude  Longitude\n",
       "24        M5G  Downtown Toronto  Central Bay Street  43.657952 -79.387383"
      ]
     },
     "execution_count": 57,
     "metadata": {},
     "output_type": "execute_result"
    }
   ],
   "source": [
    "#let's check if the example returns the expected value(s)\n",
    "df2.loc[df2['PostalCode'] == 'M5G']"
   ]
  },
  {
   "cell_type": "markdown",
   "metadata": {},
   "source": [
    "Toronto Map"
   ]
  },
  {
   "cell_type": "code",
   "execution_count": 58,
   "metadata": {},
   "outputs": [
    {
     "name": "stdout",
     "output_type": "stream",
     "text": [
      "The geograpical coordinates of Toronto are 43.6534817, -79.3839347.\n"
     ]
    },
    {
     "data": {
      "text/html": [
       "<div style=\"width:100%;\"><div style=\"position:relative;width:100%;height:0;padding-bottom:60%;\"><iframe src=\"about:blank\" style=\"position:absolute;width:100%;height:100%;left:0;top:0;border:none !important;\" data-html=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 onload=\"this.contentDocument.open();this.contentDocument.write(atob(this.getAttribute('data-html')));this.contentDocument.close();\" allowfullscreen webkitallowfullscreen mozallowfullscreen></iframe></div></div>"
      ],
      "text/plain": [
       "<folium.folium.Map at 0x2347f7c3108>"
      ]
     },
     "execution_count": 58,
     "metadata": {},
     "output_type": "execute_result"
    }
   ],
   "source": [
    "geolocator = Nominatim(user_agent=\"coursera\")\n",
    "address = 'Toronto'\n",
    "try:\n",
    "    location = geolocator.geocode(address)\n",
    "    latitude = location.latitude\n",
    "    longitude = location.longitude\n",
    "    print('The geograpical coordinates of {} are {}, {}.'.format(address, latitude, longitude))\n",
    "except AttributeError:\n",
    "    print('Cannot find: {}, will drop index: {}'.format(address, index))\n",
    "\n",
    "my_map = folium.Map(location=[latitude, longitude], zoom_start=11)\n",
    "\n",
    "# add markers to map\n",
    "for lat, lng, label in zip(df2['Latitude'], df2['Longitude'], df2['PostalCode']):\n",
    "    label = folium.Popup(label)\n",
    "    folium.CircleMarker(\n",
    "        [lat, lng],\n",
    "        radius=5,\n",
    "        popup=label,\n",
    "        color='blue',\n",
    "        fill_color='#3186cc',\n",
    "        fill_opacity=0.7).add_to(my_map)  \n",
    "    \n",
    "my_map"
   ]
  },
  {
   "cell_type": "code",
   "execution_count": 60,
   "metadata": {},
   "outputs": [],
   "source": [
    "#Will analyze with 4Square\n",
    "\n",
    "\n",
    "CLIENT_ID = '...' # Foursquare ID\n",
    "CLIENT_SECRET = '...' # Foursquare Secret\n",
    "VERSION = '20180605' # API version\n",
    "\n",
    "\n",
    "#will focus on Etobicoke\n",
    "\n",
    "df2.set_index('PostalCode', inplace = True) \n",
    "neighborhood_latitude = df2.loc['M9V']['Latitude']\n",
    "neighborhood_longitude = df2.loc['M9V']['Longitude']"
   ]
  },
  {
   "cell_type": "code",
   "execution_count": 61,
   "metadata": {},
   "outputs": [
    {
     "data": {
      "text/plain": [
       "'https://api.foursquare.com/v2/venues/explore?&client_id=...&client_secret=...&v=20180605&ll=43.739416399999996,-79.5884369&radius=500&limit=100'"
      ]
     },
     "execution_count": 61,
     "metadata": {},
     "output_type": "execute_result"
    }
   ],
   "source": [
    "\n",
    "LIMIT = 100 # limit of number of venues returned by Foursquare API\n",
    "radius = 500 # define radius\n",
    "# create URL\n",
    "url = 'https://api.foursquare.com/v2/venues/explore?&client_id={}&client_secret={}&v={}&ll={},{}&radius={}&limit={}'.format(\n",
    "    CLIENT_ID, \n",
    "    CLIENT_SECRET, \n",
    "    VERSION, \n",
    "    neighborhood_latitude, \n",
    "    neighborhood_longitude, \n",
    "    radius, \n",
    "    LIMIT)\n",
    "url # display URL"
   ]
  },
  {
   "cell_type": "code",
   "execution_count": 62,
   "metadata": {},
   "outputs": [],
   "source": [
    "results = requests.get(url).json()"
   ]
  },
  {
   "cell_type": "code",
   "execution_count": 63,
   "metadata": {},
   "outputs": [],
   "source": [
    "# function that extracts the category of the venue\n",
    "def get_category_type(row):\n",
    "    try:\n",
    "        categories_list = row['categories']\n",
    "    except:\n",
    "        categories_list = row['venue.categories']\n",
    "        \n",
    "    if len(categories_list) == 0:\n",
    "        return None\n",
    "    else:\n",
    "        return categories_list[0]['name']"
   ]
  },
  {
   "cell_type": "code",
   "execution_count": 66,
   "metadata": {},
   "outputs": [
    {
     "ename": "KeyError",
     "evalue": "'groups'",
     "output_type": "error",
     "traceback": [
      "\u001b[1;31m---------------------------------------------------------------------------\u001b[0m",
      "\u001b[1;31mKeyError\u001b[0m                                  Traceback (most recent call last)",
      "\u001b[1;32m<ipython-input-66-2ce0330f0b5a>\u001b[0m in \u001b[0;36m<module>\u001b[1;34m\u001b[0m\n\u001b[1;32m----> 1\u001b[1;33m \u001b[0mvenues\u001b[0m \u001b[1;33m=\u001b[0m \u001b[0mresults\u001b[0m\u001b[1;33m[\u001b[0m\u001b[1;34m'response'\u001b[0m\u001b[1;33m]\u001b[0m\u001b[1;33m[\u001b[0m\u001b[1;34m'groups'\u001b[0m\u001b[1;33m]\u001b[0m\u001b[1;33m[\u001b[0m\u001b[1;36m0\u001b[0m\u001b[1;33m]\u001b[0m\u001b[1;33m[\u001b[0m\u001b[1;34m'items'\u001b[0m\u001b[1;33m]\u001b[0m\u001b[1;33m\u001b[0m\u001b[1;33m\u001b[0m\u001b[0m\n\u001b[0m\u001b[0;32m      2\u001b[0m \u001b[0mnearby_venues\u001b[0m \u001b[1;33m=\u001b[0m \u001b[0mjson_normalize\u001b[0m\u001b[1;33m(\u001b[0m\u001b[0mvenues\u001b[0m\u001b[1;33m)\u001b[0m \u001b[1;31m# flatten JSON\u001b[0m\u001b[1;33m\u001b[0m\u001b[1;33m\u001b[0m\u001b[0m\n",
      "\u001b[1;31mKeyError\u001b[0m: 'groups'"
     ]
    }
   ],
   "source": [
    "venues = results['response']['groups'][0]['items']\n",
    "nearby_venues = json_normalize(venues) # flatten JSON"
   ]
  },
  {
   "cell_type": "code",
   "execution_count": 69,
   "metadata": {},
   "outputs": [
    {
     "ename": "NameError",
     "evalue": "name 'nearby_venues' is not defined",
     "output_type": "error",
     "traceback": [
      "\u001b[1;31m---------------------------------------------------------------------------\u001b[0m",
      "\u001b[1;31mNameError\u001b[0m                                 Traceback (most recent call last)",
      "\u001b[1;32m<ipython-input-69-3568ebec80b7>\u001b[0m in \u001b[0;36m<module>\u001b[1;34m\u001b[0m\n\u001b[0;32m      1\u001b[0m \u001b[1;31m# filter columns\u001b[0m\u001b[1;33m\u001b[0m\u001b[1;33m\u001b[0m\u001b[1;33m\u001b[0m\u001b[0m\n\u001b[0;32m      2\u001b[0m \u001b[0mfiltered_columns\u001b[0m \u001b[1;33m=\u001b[0m \u001b[1;33m[\u001b[0m\u001b[1;34m'venue.name'\u001b[0m\u001b[1;33m,\u001b[0m \u001b[1;34m'venue.categories'\u001b[0m\u001b[1;33m,\u001b[0m \u001b[1;34m'venue.location.lat'\u001b[0m\u001b[1;33m,\u001b[0m \u001b[1;34m'venue.location.lng'\u001b[0m\u001b[1;33m]\u001b[0m\u001b[1;33m\u001b[0m\u001b[1;33m\u001b[0m\u001b[0m\n\u001b[1;32m----> 3\u001b[1;33m \u001b[0mnearby_venues\u001b[0m \u001b[1;33m=\u001b[0m \u001b[0mnearby_venues\u001b[0m\u001b[1;33m.\u001b[0m\u001b[0mloc\u001b[0m\u001b[1;33m[\u001b[0m\u001b[1;33m:\u001b[0m\u001b[1;33m,\u001b[0m \u001b[0mfiltered_columns\u001b[0m\u001b[1;33m]\u001b[0m\u001b[1;33m\u001b[0m\u001b[1;33m\u001b[0m\u001b[0m\n\u001b[0m\u001b[0;32m      4\u001b[0m \u001b[1;33m\u001b[0m\u001b[0m\n\u001b[0;32m      5\u001b[0m \u001b[1;31m# filter the category for each row\u001b[0m\u001b[1;33m\u001b[0m\u001b[1;33m\u001b[0m\u001b[1;33m\u001b[0m\u001b[0m\n",
      "\u001b[1;31mNameError\u001b[0m: name 'nearby_venues' is not defined"
     ]
    }
   ],
   "source": [
    "# filter columns\n",
    "filtered_columns = ['venue.name', 'venue.categories', 'venue.location.lat', 'venue.location.lng']\n",
    "nearby_venues = nearby_venues.loc[:, filtered_columns]\n",
    "\n",
    "# filter the category for each row\n",
    "nearby_venues['venue.categories'] = nearby_venues.apply(get_category_type, axis=1)\n",
    "\n",
    "# clean columns\n",
    "nearby_venues.columns = [col.split(\".\")[-1] for col in nearby_venues.columns]\n",
    "\n",
    "nearby_venues.head()"
   ]
  },
  {
   "cell_type": "code",
   "execution_count": 67,
   "metadata": {},
   "outputs": [],
   "source": [
    "\n",
    "\n",
    "def getNearbyVenues(names, latitudes, longitudes, radius=500):\n",
    "    \n",
    "    venues_list=[]\n",
    "    for name, lat, lng in zip(names, latitudes, longitudes):\n",
    "        print(name)\n",
    "            \n",
    "        # create the API request URL\n",
    "        url = 'https://api.foursquare.com/v2/venues/explore?&client_id={}&client_secret={}&v={}&ll={},{}&radius={}&limit={}'.format(\n",
    "            CLIENT_ID, \n",
    "            CLIENT_SECRET, \n",
    "            VERSION, \n",
    "            lat, \n",
    "            lng, \n",
    "            radius, \n",
    "            LIMIT)\n",
    "            \n",
    "        # make the GET request\n",
    "        results = requests.get(url).json()[\"response\"]['groups'][0]['items']\n",
    "        \n",
    "        # return only relevant information for each nearby venue\n",
    "        venues_list.append([(\n",
    "            name, \n",
    "            lat, \n",
    "            lng, \n",
    "            v['venue']['name'], \n",
    "            v['venue']['location']['lat'], \n",
    "            v['venue']['location']['lng'],  \n",
    "            v['venue']['categories'][0]['name']) for v in results])\n",
    "\n",
    "    nearby_venues = pd.DataFrame([item for venue_list in venues_list for item in venue_list])\n",
    "    nearby_venues.columns = ['Neighborhood', \n",
    "                  'Neighborhood Latitude', \n",
    "                  'Neighborhood Longitude', \n",
    "                  'Venue', \n",
    "                  'Venue Latitude', \n",
    "                  'Venue Longitude', \n",
    "                  'Venue Category']\n",
    "    \n",
    "    return(nearby_venues)"
   ]
  },
  {
   "cell_type": "code",
   "execution_count": 68,
   "metadata": {},
   "outputs": [
    {
     "data": {
      "text/html": [
       "<div>\n",
       "<style scoped>\n",
       "    .dataframe tbody tr th:only-of-type {\n",
       "        vertical-align: middle;\n",
       "    }\n",
       "\n",
       "    .dataframe tbody tr th {\n",
       "        vertical-align: top;\n",
       "    }\n",
       "\n",
       "    .dataframe thead th {\n",
       "        text-align: right;\n",
       "    }\n",
       "</style>\n",
       "<table border=\"1\" class=\"dataframe\">\n",
       "  <thead>\n",
       "    <tr style=\"text-align: right;\">\n",
       "      <th></th>\n",
       "      <th>Borough</th>\n",
       "      <th>Neighborhood</th>\n",
       "      <th>Latitude</th>\n",
       "      <th>Longitude</th>\n",
       "    </tr>\n",
       "    <tr>\n",
       "      <th>PostalCode</th>\n",
       "      <th></th>\n",
       "      <th></th>\n",
       "      <th></th>\n",
       "      <th></th>\n",
       "    </tr>\n",
       "  </thead>\n",
       "  <tbody>\n",
       "    <tr>\n",
       "      <th>M3A</th>\n",
       "      <td>North York</td>\n",
       "      <td>Parkwoods</td>\n",
       "      <td>43.753259</td>\n",
       "      <td>-79.329656</td>\n",
       "    </tr>\n",
       "    <tr>\n",
       "      <th>M4A</th>\n",
       "      <td>North York</td>\n",
       "      <td>Victoria Village</td>\n",
       "      <td>43.725882</td>\n",
       "      <td>-79.315572</td>\n",
       "    </tr>\n",
       "    <tr>\n",
       "      <th>M5A</th>\n",
       "      <td>Downtown Toronto</td>\n",
       "      <td>Regent Park / Harbourfront</td>\n",
       "      <td>43.654260</td>\n",
       "      <td>-79.360636</td>\n",
       "    </tr>\n",
       "    <tr>\n",
       "      <th>M6A</th>\n",
       "      <td>North York</td>\n",
       "      <td>Lawrence Manor / Lawrence Heights</td>\n",
       "      <td>43.718518</td>\n",
       "      <td>-79.464763</td>\n",
       "    </tr>\n",
       "    <tr>\n",
       "      <th>M7A</th>\n",
       "      <td>Downtown Toronto</td>\n",
       "      <td>Queen's Park / Ontario Provincial Government</td>\n",
       "      <td>43.662301</td>\n",
       "      <td>-79.389494</td>\n",
       "    </tr>\n",
       "    <tr>\n",
       "      <th>...</th>\n",
       "      <td>...</td>\n",
       "      <td>...</td>\n",
       "      <td>...</td>\n",
       "      <td>...</td>\n",
       "    </tr>\n",
       "    <tr>\n",
       "      <th>M8X</th>\n",
       "      <td>Etobicoke</td>\n",
       "      <td>The Kingsway / Montgomery Road  / Old Mill North</td>\n",
       "      <td>43.653654</td>\n",
       "      <td>-79.506944</td>\n",
       "    </tr>\n",
       "    <tr>\n",
       "      <th>M4Y</th>\n",
       "      <td>Downtown Toronto</td>\n",
       "      <td>Church and Wellesley</td>\n",
       "      <td>43.665860</td>\n",
       "      <td>-79.383160</td>\n",
       "    </tr>\n",
       "    <tr>\n",
       "      <th>M7Y</th>\n",
       "      <td>East Toronto</td>\n",
       "      <td>Business reply mail Processing CentrE</td>\n",
       "      <td>43.662744</td>\n",
       "      <td>-79.321558</td>\n",
       "    </tr>\n",
       "    <tr>\n",
       "      <th>M8Y</th>\n",
       "      <td>Etobicoke</td>\n",
       "      <td>Old Mill South / King's Mill Park / Sunnylea /...</td>\n",
       "      <td>43.636258</td>\n",
       "      <td>-79.498509</td>\n",
       "    </tr>\n",
       "    <tr>\n",
       "      <th>M8Z</th>\n",
       "      <td>Etobicoke</td>\n",
       "      <td>Mimico NW / The Queensway West / South of Bloo...</td>\n",
       "      <td>43.628841</td>\n",
       "      <td>-79.520999</td>\n",
       "    </tr>\n",
       "  </tbody>\n",
       "</table>\n",
       "<p>103 rows × 4 columns</p>\n",
       "</div>"
      ],
      "text/plain": [
       "                     Borough  \\\n",
       "PostalCode                     \n",
       "M3A               North York   \n",
       "M4A               North York   \n",
       "M5A         Downtown Toronto   \n",
       "M6A               North York   \n",
       "M7A         Downtown Toronto   \n",
       "...                      ...   \n",
       "M8X                Etobicoke   \n",
       "M4Y         Downtown Toronto   \n",
       "M7Y             East Toronto   \n",
       "M8Y                Etobicoke   \n",
       "M8Z                Etobicoke   \n",
       "\n",
       "                                                 Neighborhood   Latitude  \\\n",
       "PostalCode                                                                 \n",
       "M3A                                                 Parkwoods  43.753259   \n",
       "M4A                                          Victoria Village  43.725882   \n",
       "M5A                                Regent Park / Harbourfront  43.654260   \n",
       "M6A                         Lawrence Manor / Lawrence Heights  43.718518   \n",
       "M7A              Queen's Park / Ontario Provincial Government  43.662301   \n",
       "...                                                       ...        ...   \n",
       "M8X          The Kingsway / Montgomery Road  / Old Mill North  43.653654   \n",
       "M4Y                                      Church and Wellesley  43.665860   \n",
       "M7Y                     Business reply mail Processing CentrE  43.662744   \n",
       "M8Y         Old Mill South / King's Mill Park / Sunnylea /...  43.636258   \n",
       "M8Z         Mimico NW / The Queensway West / South of Bloo...  43.628841   \n",
       "\n",
       "            Longitude  \n",
       "PostalCode             \n",
       "M3A        -79.329656  \n",
       "M4A        -79.315572  \n",
       "M5A        -79.360636  \n",
       "M6A        -79.464763  \n",
       "M7A        -79.389494  \n",
       "...               ...  \n",
       "M8X        -79.506944  \n",
       "M4Y        -79.383160  \n",
       "M7Y        -79.321558  \n",
       "M8Y        -79.498509  \n",
       "M8Z        -79.520999  \n",
       "\n",
       "[103 rows x 4 columns]"
      ]
     },
     "execution_count": 68,
     "metadata": {},
     "output_type": "execute_result"
    }
   ],
   "source": [
    "df2"
   ]
  },
  {
   "cell_type": "code",
   "execution_count": null,
   "metadata": {},
   "outputs": [],
   "source": []
  }
 ],
 "metadata": {
  "kernelspec": {
   "display_name": "Python 3",
   "language": "python",
   "name": "python3"
  },
  "language_info": {
   "codemirror_mode": {
    "name": "ipython",
    "version": 3
   },
   "file_extension": ".py",
   "mimetype": "text/x-python",
   "name": "python",
   "nbconvert_exporter": "python",
   "pygments_lexer": "ipython3",
   "version": "3.7.5"
  }
 },
 "nbformat": 4,
 "nbformat_minor": 2
}
